{
 "cells": [
  {
   "cell_type": "code",
   "execution_count": null,
   "metadata": {},
   "outputs": [],
   "source": [
    "import cv2"
   ]
  },
  {
   "cell_type": "code",
   "execution_count": null,
   "metadata": {},
   "outputs": [],
   "source": [
    "\n",
    "PATH = '/home/tracy/Documents/pix2pixHD/datasets/cityscapes/train_label'\n",
    "city = cv2.imread(PATH)\n",
    "\n",
    "PATH = '/home/tracy/Documents/pix2pixHD/datasets/skincancer/train_label'\n",
    "cell = cv2.imread(PATH)"
   ]
  }
 ],
 "metadata": {
  "language_info": {
   "name": "python"
  },
  "orig_nbformat": 4
 },
 "nbformat": 4,
 "nbformat_minor": 2
}
